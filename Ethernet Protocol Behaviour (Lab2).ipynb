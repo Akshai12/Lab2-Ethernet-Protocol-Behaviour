{
 "cells": [
  {
   "cell_type": "code",
   "execution_count": 1,
   "id": "a6ff4971-278e-4a32-9d5d-cfc647981d17",
   "metadata": {},
   "outputs": [],
   "source": [
    "%load_ext uhed"
   ]
  },
  {
   "cell_type": "code",
   "execution_count": 2,
   "id": "0210879e-a2b0-47ac-ae4c-30eb616c3540",
   "metadata": {},
   "outputs": [
    {
     "data": {
      "application/vnd.jupyter.widget-view+json": {
       "model_id": "faf2764b08a14a54b9b7df8a5981c662",
       "version_major": 2,
       "version_minor": 0
      },
      "text/plain": [
       "VBox(children=(HBox(children=(HTML(value='<h2>Lab Exercises</h2>', layout=Layout(width='85%')), Button(icon='e…"
      ]
     },
     "metadata": {},
     "output_type": "display_data"
    }
   ],
   "source": [
    "%exercise"
   ]
  },
  {
   "cell_type": "code",
   "execution_count": null,
   "id": "f0a96e10-5195-4339-bf18-797ddac7c0f2",
   "metadata": {},
   "outputs": [],
   "source": []
  }
 ],
 "metadata": {
  "kernelspec": {
   "display_name": "Python 3 (ipykernel)",
   "language": "python",
   "name": "python3"
  },
  "language_info": {
   "codemirror_mode": {
    "name": "ipython",
    "version": 3
   },
   "file_extension": ".py",
   "mimetype": "text/x-python",
   "name": "python",
   "nbconvert_exporter": "python",
   "pygments_lexer": "ipython3",
   "version": "3.8.10"
  }
 },
 "nbformat": 4,
 "nbformat_minor": 5
}
